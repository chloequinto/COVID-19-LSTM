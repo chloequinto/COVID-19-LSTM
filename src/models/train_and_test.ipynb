{
 "cells": [
  {
   "cell_type": "code",
   "execution_count": 1,
   "metadata": {},
   "outputs": [
    {
     "name": "stderr",
     "output_type": "stream",
     "text": [
      "Using TensorFlow backend.\n"
     ]
    }
   ],
   "source": [
    "import warnings\n",
    "warnings.filterwarnings('ignore')\n",
    "\n",
    "import csv \n",
    "import sys\n",
    "import pandas as pd \n",
    "import numpy as np \n",
    "import matplotlib.pyplot as plt \n",
    "\n",
    "from sklearn.preprocessing import MinMaxScaler\n",
    "from keras.preprocessing.sequence import TimeseriesGenerator\n",
    "from keras.models import Sequential \n",
    "from keras.layers import Dense, LSTM, Bidirectional, RepeatVector, TimeDistributed, Input, Flatten, Dropout\n",
    "\n",
    "from statsmodels.tools.eval_measures import rmse\n",
    "from tabulate import tabulate"
   ]
  },
  {
   "cell_type": "code",
   "execution_count": 2,
   "metadata": {},
   "outputs": [
    {
     "data": {
      "text/html": [
       "<div>\n",
       "<style scoped>\n",
       "    .dataframe tbody tr th:only-of-type {\n",
       "        vertical-align: middle;\n",
       "    }\n",
       "\n",
       "    .dataframe tbody tr th {\n",
       "        vertical-align: top;\n",
       "    }\n",
       "\n",
       "    .dataframe thead th {\n",
       "        text-align: right;\n",
       "    }\n",
       "</style>\n",
       "<table border=\"1\" class=\"dataframe\">\n",
       "  <thead>\n",
       "    <tr style=\"text-align: right;\">\n",
       "      <th></th>\n",
       "      <th>Confirmed</th>\n",
       "    </tr>\n",
       "    <tr>\n",
       "      <th>Date</th>\n",
       "      <th></th>\n",
       "    </tr>\n",
       "  </thead>\n",
       "  <tbody>\n",
       "    <tr>\n",
       "      <th>1/22/20</th>\n",
       "      <td>1</td>\n",
       "    </tr>\n",
       "    <tr>\n",
       "      <th>1/23/20</th>\n",
       "      <td>1</td>\n",
       "    </tr>\n",
       "    <tr>\n",
       "      <th>1/24/20</th>\n",
       "      <td>2</td>\n",
       "    </tr>\n",
       "    <tr>\n",
       "      <th>1/25/20</th>\n",
       "      <td>2</td>\n",
       "    </tr>\n",
       "    <tr>\n",
       "      <th>1/26/20</th>\n",
       "      <td>5</td>\n",
       "    </tr>\n",
       "    <tr>\n",
       "      <th>...</th>\n",
       "      <td>...</td>\n",
       "    </tr>\n",
       "    <tr>\n",
       "      <th>5/13/20</th>\n",
       "      <td>1390406</td>\n",
       "    </tr>\n",
       "    <tr>\n",
       "      <th>5/14/20</th>\n",
       "      <td>1417774</td>\n",
       "    </tr>\n",
       "    <tr>\n",
       "      <th>5/15/20</th>\n",
       "      <td>1442824</td>\n",
       "    </tr>\n",
       "    <tr>\n",
       "      <th>5/16/20</th>\n",
       "      <td>1467820</td>\n",
       "    </tr>\n",
       "    <tr>\n",
       "      <th>5/17/20</th>\n",
       "      <td>1486757</td>\n",
       "    </tr>\n",
       "  </tbody>\n",
       "</table>\n",
       "<p>117 rows × 1 columns</p>\n",
       "</div>"
      ],
      "text/plain": [
       "         Confirmed\n",
       "Date              \n",
       "1/22/20          1\n",
       "1/23/20          1\n",
       "1/24/20          2\n",
       "1/25/20          2\n",
       "1/26/20          5\n",
       "...            ...\n",
       "5/13/20    1390406\n",
       "5/14/20    1417774\n",
       "5/15/20    1442824\n",
       "5/16/20    1467820\n",
       "5/17/20    1486757\n",
       "\n",
       "[117 rows x 1 columns]"
      ]
     },
     "execution_count": 2,
     "metadata": {},
     "output_type": "execute_result"
    }
   ],
   "source": [
    "covid19_us = pd.read_csv(\"../data/covid19_US.csv\")\n",
    "covid19_us.rename(columns={\"Unnamed: 0\": \"Date\"}, inplace=True)\n",
    "covid19_us = covid19_us.set_index(\"Date\")\n",
    "covid19_us"
   ]
  },
  {
   "cell_type": "code",
   "execution_count": 3,
   "metadata": {},
   "outputs": [],
   "source": [
    "train_data = covid19_us[:len(covid19_us)-3]\n",
    "test_data = covid19_us[len(covid19_us)-3:]"
   ]
  },
  {
   "cell_type": "code",
   "execution_count": 4,
   "metadata": {},
   "outputs": [],
   "source": [
    "scalar = MinMaxScaler()\n",
    "scalar.fit(train_data)\n",
    "scaled_train_data = scalar.transform(train_data)\n",
    "scaled_test_data = scalar.transform(test_data)"
   ]
  },
  {
   "cell_type": "code",
   "execution_count": 5,
   "metadata": {},
   "outputs": [],
   "source": [
    "steps = 3\n",
    "n_features = 1 \n",
    "generator = TimeseriesGenerator(scaled_train_data, scaled_train_data, length = steps, batch_size=1)"
   ]
  },
  {
   "cell_type": "markdown",
   "metadata": {},
   "source": [
    "## Train Model "
   ]
  },
  {
   "cell_type": "code",
   "execution_count": 6,
   "metadata": {},
   "outputs": [
    {
     "name": "stdout",
     "output_type": "stream",
     "text": [
      "WARNING:tensorflow:From /usr/local/anaconda3/lib/python3.7/site-packages/tensorflow/python/ops/resource_variable_ops.py:435: colocate_with (from tensorflow.python.framework.ops) is deprecated and will be removed in a future version.\n",
      "Instructions for updating:\n",
      "Colocations handled automatically by placer.\n"
     ]
    }
   ],
   "source": [
    "model_bidirectional = Sequential()\n",
    "model_bidirectional.add(Bidirectional(LSTM(200, activation='relu'), input_shape=(steps, n_features)))\n",
    "model_bidirectional.add(Dense(1))\n",
    "model_bidirectional.compile(optimizer='adam', loss='mse')"
   ]
  },
  {
   "cell_type": "code",
   "execution_count": 7,
   "metadata": {},
   "outputs": [
    {
     "name": "stdout",
     "output_type": "stream",
     "text": [
      "Model: \"sequential_1\"\n",
      "_________________________________________________________________\n",
      "Layer (type)                 Output Shape              Param #   \n",
      "=================================================================\n",
      "bidirectional_1 (Bidirection (None, 400)               323200    \n",
      "_________________________________________________________________\n",
      "dense_1 (Dense)              (None, 1)                 401       \n",
      "=================================================================\n",
      "Total params: 323,601\n",
      "Trainable params: 323,601\n",
      "Non-trainable params: 0\n",
      "_________________________________________________________________\n"
     ]
    }
   ],
   "source": [
    "model_bidirectional.summary()"
   ]
  },
  {
   "cell_type": "code",
   "execution_count": 8,
   "metadata": {},
   "outputs": [
    {
     "name": "stdout",
     "output_type": "stream",
     "text": [
      "WARNING:tensorflow:From /usr/local/anaconda3/lib/python3.7/site-packages/tensorflow/python/ops/math_ops.py:3066: to_int32 (from tensorflow.python.ops.math_ops) is deprecated and will be removed in a future version.\n",
      "Instructions for updating:\n",
      "Use tf.cast instead.\n",
      "Epoch 1/20\n",
      "111/111 [==============================] - 1s 11ms/step - loss: 0.0235\n",
      "Epoch 2/20\n",
      "111/111 [==============================] - 1s 5ms/step - loss: 1.6281e-04\n",
      "Epoch 3/20\n",
      "111/111 [==============================] - 1s 6ms/step - loss: 1.4749e-04\n",
      "Epoch 4/20\n",
      "111/111 [==============================] - 1s 5ms/step - loss: 7.9287e-05\n",
      "Epoch 5/20\n",
      "111/111 [==============================] - 1s 6ms/step - loss: 6.6316e-05\n",
      "Epoch 6/20\n",
      "111/111 [==============================] - 1s 5ms/step - loss: 9.4156e-05\n",
      "Epoch 7/20\n",
      "111/111 [==============================] - 1s 6ms/step - loss: 3.5158e-05\n",
      "Epoch 8/20\n",
      "111/111 [==============================] - 1s 5ms/step - loss: 7.5253e-05\n",
      "Epoch 9/20\n",
      "111/111 [==============================] - 1s 5ms/step - loss: 3.9906e-05\n",
      "Epoch 10/20\n",
      "111/111 [==============================] - 1s 5ms/step - loss: 4.2964e-05\n",
      "Epoch 11/20\n",
      "111/111 [==============================] - 1s 5ms/step - loss: 2.4948e-05\n",
      "Epoch 12/20\n",
      "111/111 [==============================] - 1s 5ms/step - loss: 3.0144e-05\n",
      "Epoch 13/20\n",
      "111/111 [==============================] - 1s 5ms/step - loss: 2.2335e-05\n",
      "Epoch 14/20\n",
      "111/111 [==============================] - 1s 5ms/step - loss: 3.4841e-05\n",
      "Epoch 15/20\n",
      "111/111 [==============================] - 1s 5ms/step - loss: 1.7123e-04\n",
      "Epoch 16/20\n",
      "111/111 [==============================] - 1s 5ms/step - loss: 1.2016e-04\n",
      "Epoch 17/20\n",
      "111/111 [==============================] - 1s 5ms/step - loss: 1.2738e-04\n",
      "Epoch 18/20\n",
      "111/111 [==============================] - 1s 5ms/step - loss: 5.5997e-05\n",
      "Epoch 19/20\n",
      "111/111 [==============================] - 1s 5ms/step - loss: 3.8098e-05\n",
      "Epoch 20/20\n",
      "111/111 [==============================] - 1s 5ms/step - loss: 2.3671e-05\n"
     ]
    },
    {
     "data": {
      "text/plain": [
       "<keras.callbacks.callbacks.History at 0x13f81d9e8>"
      ]
     },
     "execution_count": 8,
     "metadata": {},
     "output_type": "execute_result"
    }
   ],
   "source": [
    "model_bidirectional.fit_generator(generator, epochs=20)"
   ]
  },
  {
   "cell_type": "code",
   "execution_count": 9,
   "metadata": {},
   "outputs": [],
   "source": [
    "losses_bidirectional = model_bidirectional.history.history[\"loss\"]"
   ]
  },
  {
   "cell_type": "code",
   "execution_count": 10,
   "metadata": {},
   "outputs": [
    {
     "data": {
      "text/plain": [
       "[<matplotlib.lines.Line2D at 0x13dfcc2e8>]"
      ]
     },
     "execution_count": 10,
     "metadata": {},
     "output_type": "execute_result"
    },
    {
     "data": {
      "image/png": "[encoded data removed]",
      "text/plain": [
       "<Figure size 1080x288 with 1 Axes>"
      ]
     },
     "metadata": {
      "needs_background": "light"
     },
     "output_type": "display_data"
    }
   ],
   "source": [
    "plt.figure(figsize=(15,4))\n",
    "plt.xlabel(\"Epochs\")\n",
    "plt.ylabel(\"Loss\")\n",
    "plt.xticks(np.arange(0,21,1))\n",
    "plt.plot(range(len(losses_bidirectional)), losses_bidirectional)"
   ]
  },
  {
   "cell_type": "code",
   "execution_count": null,
   "metadata": {},
   "outputs": [],
   "source": []
  },
  {
   "cell_type": "code",
   "execution_count": 11,
   "metadata": {},
   "outputs": [
    {
     "data": {
      "text/plain": [
       "[array([1.0113204], dtype=float32),\n",
       " array([1.0265187], dtype=float32),\n",
       " array([1.0422199], dtype=float32)]"
      ]
     },
     "execution_count": 11,
     "metadata": {},
     "output_type": "execute_result"
    }
   ],
   "source": [
    "prediction_scaled_bidirectional = list()\n",
    "\n",
    "batch = scaled_train_data[-steps:]\n",
    "curr_batch = batch.reshape((1, steps, n_features))\n",
    "\n",
    "for i in range(len(test_data)): \n",
    "    pred_bidirectional = model_bidirectional.predict(curr_batch)[0]\n",
    "    prediction_scaled_bidirectional.append(pred_bidirectional)\n",
    "    curr_batch = np.append(curr_batch[:, 1:, :], [[pred_bidirectional]], axis=1)\n",
    "    \n",
    "prediction_scaled_bidirectional"
   ]
  },
  {
   "cell_type": "code",
   "execution_count": 12,
   "metadata": {},
   "outputs": [
    {
     "data": {
      "text/plain": [
       "array([[1433823.690202  ],\n",
       "       [1455371.50040948],\n",
       "       [1477632.2020185 ]])"
      ]
     },
     "execution_count": 12,
     "metadata": {},
     "output_type": "execute_result"
    }
   ],
   "source": [
    "prediction_bidirectional = scalar.inverse_transform(prediction_scaled_bidirectional)\n",
    "prediction_bidirectional"
   ]
  },
  {
   "cell_type": "code",
   "execution_count": 13,
   "metadata": {},
   "outputs": [
    {
     "data": {
      "text/html": [
       "<div>\n",
       "<style scoped>\n",
       "    .dataframe tbody tr th:only-of-type {\n",
       "        vertical-align: middle;\n",
       "    }\n",
       "\n",
       "    .dataframe tbody tr th {\n",
       "        vertical-align: top;\n",
       "    }\n",
       "\n",
       "    .dataframe thead th {\n",
       "        text-align: right;\n",
       "    }\n",
       "</style>\n",
       "<table border=\"1\" class=\"dataframe\">\n",
       "  <thead>\n",
       "    <tr style=\"text-align: right;\">\n",
       "      <th></th>\n",
       "      <th>Confirmed</th>\n",
       "      <th>LSTM_Predictions</th>\n",
       "    </tr>\n",
       "    <tr>\n",
       "      <th>Date</th>\n",
       "      <th></th>\n",
       "      <th></th>\n",
       "    </tr>\n",
       "  </thead>\n",
       "  <tbody>\n",
       "    <tr>\n",
       "      <th>5/15/20</th>\n",
       "      <td>1442824</td>\n",
       "      <td>1.433824e+06</td>\n",
       "    </tr>\n",
       "    <tr>\n",
       "      <th>5/16/20</th>\n",
       "      <td>1467820</td>\n",
       "      <td>1.455372e+06</td>\n",
       "    </tr>\n",
       "    <tr>\n",
       "      <th>5/17/20</th>\n",
       "      <td>1486757</td>\n",
       "      <td>1.477632e+06</td>\n",
       "    </tr>\n",
       "  </tbody>\n",
       "</table>\n",
       "</div>"
      ],
      "text/plain": [
       "         Confirmed  LSTM_Predictions\n",
       "Date                                \n",
       "5/15/20    1442824      1.433824e+06\n",
       "5/16/20    1467820      1.455372e+06\n",
       "5/17/20    1486757      1.477632e+06"
      ]
     },
     "execution_count": 13,
     "metadata": {},
     "output_type": "execute_result"
    }
   ],
   "source": [
    "test_data[\"LSTM_Predictions\"] = prediction_bidirectional\n",
    "test_data"
   ]
  },
  {
   "cell_type": "code",
   "execution_count": 14,
   "metadata": {},
   "outputs": [
    {
     "data": {
      "image/png": "[encoded data removed]",
      "text/plain": [
       "<Figure size 1080x288 with 1 Axes>"
      ]
     },
     "metadata": {
      "needs_background": "light"
     },
     "output_type": "display_data"
    }
   ],
   "source": [
    "test_data['Confirmed'].plot(figsize = (15,4), legend=True)\n",
    "test_data['LSTM_Predictions'].plot(legend = True);"
   ]
  },
  {
   "cell_type": "code",
   "execution_count": 15,
   "metadata": {},
   "outputs": [
    {
     "name": "stdout",
     "output_type": "stream",
     "text": [
      "MSE Error: 106410885.5727641 \n",
      "RMSE Error: 10315.565208594442 \n",
      "Mean: 364899.452991453\n"
     ]
    }
   ],
   "source": [
    "lstm_rmse_error_bidirectional = rmse(test_data['Confirmed'], test_data[\"LSTM_Predictions\"])\n",
    "lstm_mse_error_bidirectional = lstm_rmse_error_bidirectional**2\n",
    "mean_value = covid19_us['Confirmed'].mean()\n",
    "\n",
    "print('MSE Error:', lstm_mse_error_bidirectional, '\\nRMSE Error:', lstm_rmse_error_bidirectional, '\\nMean:',mean_value)\n"
   ]
  },
  {
   "cell_type": "code",
   "execution_count": 48,
   "metadata": {},
   "outputs": [
    {
     "data": {
      "image/png": "[encoded data removed]",
      "text/plain": [
       "<Figure size 432x288 with 1 Axes>"
      ]
     },
     "metadata": {
      "needs_background": "light"
     },
     "output_type": "display_data"
    }
   ],
   "source": [
    "plt.plot(train_data[\"Confirmed\"])\n",
    "plt.plot(test_data[\"Confirmed\"])\n",
    "plt.plot(test_data[\"LSTM_Predictions\"])\n",
    "plt.ylabel(\"Confirmed Cases\")\n",
    "plt.xlabel(\"Date\")\n",
    "plt.title(\"Confirmed Cases Using Bidirectional LSTM\")\n",
    "plt.xticks(train_data.index, \" \")\n",
    "plt.show()"
   ]
  },
  {
   "cell_type": "markdown",
   "metadata": {},
   "source": [
    "## Let's zoom in a bit closer "
   ]
  },
  {
   "cell_type": "code",
   "execution_count": 44,
   "metadata": {},
   "outputs": [],
   "source": [
    "shorted_train_data = train_data.loc[\"5/5/20\":\"5/14/20\"]"
   ]
  },
  {
   "cell_type": "code",
   "execution_count": 49,
   "metadata": {},
   "outputs": [
    {
     "data": {
      "image/png": "[encoded data removed]",
      "text/plain": [
       "<Figure size 432x288 with 1 Axes>"
      ]
     },
     "metadata": {
      "needs_background": "light"
     },
     "output_type": "display_data"
    }
   ],
   "source": [
    "plt.plot(shorted_train_data[\"Confirmed\"], label=\"Past Data\")\n",
    "plt.plot(test_data[\"Confirmed\"], label= \"Actual Data\")\n",
    "plt.plot(test_data[\"LSTM_Predictions\"], label = \"Predicted Data\")\n",
    "plt.legend()\n",
    "plt.xticks(rotation=90)\n",
    "plt.show()"
   ]
  },
  {
   "cell_type": "code",
   "execution_count": 19,
   "metadata": {},
   "outputs": [
    {
     "data": {
      "text/html": [
       "<div>\n",
       "<style scoped>\n",
       "    .dataframe tbody tr th:only-of-type {\n",
       "        vertical-align: middle;\n",
       "    }\n",
       "\n",
       "    .dataframe tbody tr th {\n",
       "        vertical-align: top;\n",
       "    }\n",
       "\n",
       "    .dataframe thead th {\n",
       "        text-align: right;\n",
       "    }\n",
       "</style>\n",
       "<table border=\"1\" class=\"dataframe\">\n",
       "  <thead>\n",
       "    <tr style=\"text-align: right;\">\n",
       "      <th></th>\n",
       "      <th>Confirmed</th>\n",
       "      <th>LSTM_Predictions</th>\n",
       "    </tr>\n",
       "    <tr>\n",
       "      <th>Date</th>\n",
       "      <th></th>\n",
       "      <th></th>\n",
       "    </tr>\n",
       "  </thead>\n",
       "  <tbody>\n",
       "    <tr>\n",
       "      <th>5/15/20</th>\n",
       "      <td>1442824</td>\n",
       "      <td>1.433824e+06</td>\n",
       "    </tr>\n",
       "    <tr>\n",
       "      <th>5/16/20</th>\n",
       "      <td>1467820</td>\n",
       "      <td>1.455372e+06</td>\n",
       "    </tr>\n",
       "    <tr>\n",
       "      <th>5/17/20</th>\n",
       "      <td>1486757</td>\n",
       "      <td>1.477632e+06</td>\n",
       "    </tr>\n",
       "  </tbody>\n",
       "</table>\n",
       "</div>"
      ],
      "text/plain": [
       "         Confirmed  LSTM_Predictions\n",
       "Date                                \n",
       "5/15/20    1442824      1.433824e+06\n",
       "5/16/20    1467820      1.455372e+06\n",
       "5/17/20    1486757      1.477632e+06"
      ]
     },
     "execution_count": 19,
     "metadata": {},
     "output_type": "execute_result"
    }
   ],
   "source": [
    "test_data"
   ]
  },
  {
   "cell_type": "code",
   "execution_count": null,
   "metadata": {},
   "outputs": [],
   "source": []
  }
 ],
 "metadata": {
  "kernelspec": {
   "display_name": "Python 3",
   "language": "python",
   "name": "python3"
  },
  "language_info": {
   "codemirror_mode": {
    "name": "ipython",
    "version": 3
   },
   "file_extension": ".py",
   "mimetype": "text/x-python",
   "name": "python",
   "nbconvert_exporter": "python",
   "pygments_lexer": "ipython3",
   "version": "3.7.1"
  }
 },
 "nbformat": 4,
 "nbformat_minor": 2
}
